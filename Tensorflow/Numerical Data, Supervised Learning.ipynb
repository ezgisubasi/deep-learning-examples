{
 "cells": [
  {
   "cell_type": "markdown",
   "metadata": {},
   "source": [
    "## Dataset"
   ]
  },
  {
   "cell_type": "code",
   "execution_count": 17,
   "metadata": {},
   "outputs": [],
   "source": [
    "import numpy as np\n",
    "from random import randint\n",
    "from sklearn.utils import shuffle\n",
    "from sklearn.preprocessing import MinMaxScaler"
   ]
  },
  {
   "cell_type": "code",
   "execution_count": 18,
   "metadata": {},
   "outputs": [],
   "source": [
    "train_labels = []\n",
    "train_samples = []"
   ]
  },
  {
   "cell_type": "markdown",
   "metadata": {},
   "source": [
    "Dataset:\n",
    "\n",
    "* Experimental drug test from ages 13 to 100\n",
    "* 2100 participants, half were under 65 or older"
   ]
  },
  {
   "cell_type": "code",
   "execution_count": 19,
   "metadata": {},
   "outputs": [],
   "source": [
    "for i in range(50):\n",
    "    random_younger = randint(13, 64)\n",
    "    train_samples.append(random_younger)\n",
    "    train_labels.append(1)\n",
    "    \n",
    "    random_older = randint(65, 100)\n",
    "    train_samples.append(random_older)\n",
    "    train_labels.append(0)\n",
    "    \n",
    "for i in range(1000):\n",
    "    random_younger = randint(13, 64)\n",
    "    train_samples.append(random_younger)\n",
    "    train_labels.append(0)\n",
    "    \n",
    "    random_older = randint(65, 100)\n",
    "    train_samples.append(random_older)\n",
    "    train_labels.append(1)"
   ]
  },
  {
   "cell_type": "code",
   "execution_count": 20,
   "metadata": {},
   "outputs": [],
   "source": [
    "train_labels = np.array(train_labels)\n",
    "train_samples = np.array(train_samples)\n",
    "train_labels, train_samples = shuffle(train_labels, train_samples)"
   ]
  },
  {
   "cell_type": "code",
   "execution_count": 21,
   "metadata": {},
   "outputs": [],
   "source": [
    "# Creates 0-1 scaled data\n",
    "scaler = MinMaxScaler(feature_range=(0,1))\n",
    "scaled_train_samples = scaler.fit_transform(train_samples.reshape(-1,1))"
   ]
  },
  {
   "cell_type": "markdown",
   "metadata": {},
   "source": [
    "## Simple tf.keras Sequential Model"
   ]
  },
  {
   "cell_type": "code",
   "execution_count": 22,
   "metadata": {},
   "outputs": [],
   "source": [
    "import tensorflow as tf\n",
    "from tensorflow import keras\n",
    "from tensorflow.keras.models import Sequential\n",
    "from tensorflow.keras.layers import Activation, Dense\n",
    "from tensorflow.keras.optimizers import Adam\n",
    "from tensorflow.keras.metrics import categorical_crossentropy"
   ]
  },
  {
   "cell_type": "code",
   "execution_count": 23,
   "metadata": {},
   "outputs": [],
   "source": [
    "# physical_devices = tf.config.experimental.list_physical_devices('gpu')\n",
    "# print(\"Num GPUs Available: \", len(physical_devices))\n",
    "# tf.config.experimental.set_memory_growth(physical_devices[0], True)"
   ]
  },
  {
   "cell_type": "markdown",
   "metadata": {},
   "source": [
    "Sequential Model: \n",
    "\n",
    "* Sequential Model: Linear Stack of Layers\n",
    "* Dense Layer 1: First Hidden Layer\n",
    "* Units: Nodes or Neurons\n",
    "* Last Dense Layer: Possible Output Classes "
   ]
  },
  {
   "cell_type": "code",
   "execution_count": 24,
   "metadata": {},
   "outputs": [],
   "source": [
    "model = Sequential([\n",
    "    Dense(units=16, input_shape=(1,), activation='relu'),\n",
    "    Dense(units=32, activation='relu'),\n",
    "    Dense(units=2, activation='softmax')\n",
    "])"
   ]
  },
  {
   "cell_type": "code",
   "execution_count": 25,
   "metadata": {},
   "outputs": [
    {
     "name": "stdout",
     "output_type": "stream",
     "text": [
      "Model: \"sequential_1\"\n",
      "_________________________________________________________________\n",
      "Layer (type)                 Output Shape              Param #   \n",
      "=================================================================\n",
      "dense_3 (Dense)              (None, 16)                32        \n",
      "_________________________________________________________________\n",
      "dense_4 (Dense)              (None, 32)                544       \n",
      "_________________________________________________________________\n",
      "dense_5 (Dense)              (None, 2)                 66        \n",
      "=================================================================\n",
      "Total params: 642\n",
      "Trainable params: 642\n",
      "Non-trainable params: 0\n",
      "_________________________________________________________________\n"
     ]
    }
   ],
   "source": [
    "model.summary()"
   ]
  },
  {
   "cell_type": "markdown",
   "metadata": {},
   "source": [
    "## Train the Model"
   ]
  },
  {
   "cell_type": "code",
   "execution_count": 26,
   "metadata": {},
   "outputs": [],
   "source": [
    "# Model.compile: Prepares model for training\n",
    "model.compile(optimizer=Adam(learning_rate=0.0001), loss='sparse_categorical_crossentropy', metrics=['accuracy'])                "
   ]
  },
  {
   "cell_type": "markdown",
   "metadata": {},
   "source": [
    "* batch_size: how many samples are included in one batch to be passed and processed by the network at one time\n",
    "* epochs: model is going to prcess or train on all of the data in the data set that times before completing the total training\n",
    "* verbose: allows to see output from whenever we run this fit function "
   ]
  },
  {
   "cell_type": "code",
   "execution_count": 15,
   "metadata": {},
   "outputs": [
    {
     "name": "stdout",
     "output_type": "stream",
     "text": [
      "Epoch 1/30\n",
      "210/210 - 0s - loss: 0.2427 - accuracy: 0.9438\n",
      "Epoch 2/30\n",
      "210/210 - 0s - loss: 0.2422 - accuracy: 0.9433\n",
      "Epoch 3/30\n",
      "210/210 - 0s - loss: 0.2417 - accuracy: 0.9433\n",
      "Epoch 4/30\n",
      "210/210 - 0s - loss: 0.2413 - accuracy: 0.9433\n",
      "Epoch 5/30\n",
      "210/210 - 0s - loss: 0.2408 - accuracy: 0.9433\n",
      "Epoch 6/30\n",
      "210/210 - 0s - loss: 0.2404 - accuracy: 0.9433\n",
      "Epoch 7/30\n",
      "210/210 - 0s - loss: 0.2401 - accuracy: 0.9433\n",
      "Epoch 8/30\n",
      "210/210 - 0s - loss: 0.2396 - accuracy: 0.9433\n",
      "Epoch 9/30\n",
      "210/210 - 0s - loss: 0.2394 - accuracy: 0.9433\n",
      "Epoch 10/30\n",
      "210/210 - 0s - loss: 0.2391 - accuracy: 0.9448\n",
      "Epoch 11/30\n",
      "210/210 - 0s - loss: 0.2388 - accuracy: 0.9433\n",
      "Epoch 12/30\n",
      "210/210 - 0s - loss: 0.2387 - accuracy: 0.9433\n",
      "Epoch 13/30\n",
      "210/210 - 0s - loss: 0.2383 - accuracy: 0.9467\n",
      "Epoch 14/30\n",
      "210/210 - 0s - loss: 0.2381 - accuracy: 0.9433\n",
      "Epoch 15/30\n",
      "210/210 - 0s - loss: 0.2380 - accuracy: 0.9433\n",
      "Epoch 16/30\n",
      "210/210 - 0s - loss: 0.2377 - accuracy: 0.9448\n",
      "Epoch 17/30\n",
      "210/210 - 0s - loss: 0.2376 - accuracy: 0.9433\n",
      "Epoch 18/30\n",
      "210/210 - 0s - loss: 0.2373 - accuracy: 0.9452\n",
      "Epoch 19/30\n",
      "210/210 - 0s - loss: 0.2372 - accuracy: 0.9433\n",
      "Epoch 20/30\n",
      "210/210 - 0s - loss: 0.2372 - accuracy: 0.9429\n",
      "Epoch 21/30\n",
      "210/210 - 0s - loss: 0.2370 - accuracy: 0.9433\n",
      "Epoch 22/30\n",
      "210/210 - 0s - loss: 0.2367 - accuracy: 0.9433\n",
      "Epoch 23/30\n",
      "210/210 - 0s - loss: 0.2366 - accuracy: 0.9452\n",
      "Epoch 24/30\n",
      "210/210 - 0s - loss: 0.2365 - accuracy: 0.9433\n",
      "Epoch 25/30\n",
      "210/210 - 0s - loss: 0.2361 - accuracy: 0.9481\n",
      "Epoch 26/30\n",
      "210/210 - 0s - loss: 0.2362 - accuracy: 0.9433\n",
      "Epoch 27/30\n",
      "210/210 - 0s - loss: 0.2360 - accuracy: 0.9443\n",
      "Epoch 28/30\n",
      "210/210 - 0s - loss: 0.2359 - accuracy: 0.9467\n",
      "Epoch 29/30\n",
      "210/210 - 0s - loss: 0.2357 - accuracy: 0.9433\n",
      "Epoch 30/30\n",
      "210/210 - 0s - loss: 0.2355 - accuracy: 0.9433\n"
     ]
    },
    {
     "data": {
      "text/plain": [
       "<tensorflow.python.keras.callbacks.History at 0x7ff04fe30490>"
      ]
     },
     "execution_count": 15,
     "metadata": {},
     "output_type": "execute_result"
    }
   ],
   "source": [
    "model.fit(x=scaled_train_samples, y=train_labels, batch_size=10, epochs=30, shuffle=True, verbose=2)"
   ]
  },
  {
   "cell_type": "markdown",
   "metadata": {},
   "source": [
    "## Validation Set\n",
    "\n",
    "* Getting low loss, high accuracy is important!\n",
    "* Model will only train on the training data, then it validate on the validation data\n",
    "* Helps to determine the overfitting problem\n",
    "* Val accuracy must close to accuracy in order to prevent overfitting!"
   ]
  },
  {
   "cell_type": "code",
   "execution_count": 27,
   "metadata": {},
   "outputs": [
    {
     "name": "stdout",
     "output_type": "stream",
     "text": [
      "Epoch 1/30\n",
      "189/189 - 0s - loss: 0.7195 - accuracy: 0.5026 - val_loss: 0.7055 - val_accuracy: 0.4714\n",
      "Epoch 2/30\n",
      "189/189 - 0s - loss: 0.6899 - accuracy: 0.5862 - val_loss: 0.6751 - val_accuracy: 0.9524\n",
      "Epoch 3/30\n",
      "189/189 - 0s - loss: 0.6593 - accuracy: 0.9090 - val_loss: 0.6503 - val_accuracy: 0.9381\n",
      "Epoch 4/30\n",
      "189/189 - 0s - loss: 0.6364 - accuracy: 0.9101 - val_loss: 0.6306 - val_accuracy: 0.9381\n",
      "Epoch 5/30\n",
      "189/189 - 0s - loss: 0.6149 - accuracy: 0.9275 - val_loss: 0.6091 - val_accuracy: 0.9381\n",
      "Epoch 6/30\n",
      "189/189 - 0s - loss: 0.5911 - accuracy: 0.9328 - val_loss: 0.5855 - val_accuracy: 0.9381\n",
      "Epoch 7/30\n",
      "189/189 - 0s - loss: 0.5658 - accuracy: 0.9291 - val_loss: 0.5613 - val_accuracy: 0.9381\n",
      "Epoch 8/30\n",
      "189/189 - 0s - loss: 0.5395 - accuracy: 0.9275 - val_loss: 0.5363 - val_accuracy: 0.9381\n",
      "Epoch 9/30\n",
      "189/189 - 0s - loss: 0.5128 - accuracy: 0.9280 - val_loss: 0.5108 - val_accuracy: 0.9381\n",
      "Epoch 10/30\n",
      "189/189 - 0s - loss: 0.4867 - accuracy: 0.9243 - val_loss: 0.4860 - val_accuracy: 0.9381\n",
      "Epoch 11/30\n",
      "189/189 - 0s - loss: 0.4603 - accuracy: 0.9228 - val_loss: 0.4609 - val_accuracy: 0.9381\n",
      "Epoch 12/30\n",
      "189/189 - 0s - loss: 0.4351 - accuracy: 0.9317 - val_loss: 0.4373 - val_accuracy: 0.9381\n",
      "Epoch 13/30\n",
      "189/189 - 0s - loss: 0.4127 - accuracy: 0.9243 - val_loss: 0.4169 - val_accuracy: 0.9381\n",
      "Epoch 14/30\n",
      "189/189 - 0s - loss: 0.3923 - accuracy: 0.9206 - val_loss: 0.3988 - val_accuracy: 0.9429\n",
      "Epoch 15/30\n",
      "189/189 - 0s - loss: 0.3743 - accuracy: 0.9291 - val_loss: 0.3813 - val_accuracy: 0.9381\n",
      "Epoch 16/30\n",
      "189/189 - 0s - loss: 0.3584 - accuracy: 0.9228 - val_loss: 0.3663 - val_accuracy: 0.9381\n",
      "Epoch 17/30\n",
      "189/189 - 0s - loss: 0.3445 - accuracy: 0.9243 - val_loss: 0.3543 - val_accuracy: 0.9429\n",
      "Epoch 18/30\n",
      "189/189 - 0s - loss: 0.3327 - accuracy: 0.9249 - val_loss: 0.3433 - val_accuracy: 0.9429\n",
      "Epoch 19/30\n",
      "189/189 - 0s - loss: 0.3220 - accuracy: 0.9280 - val_loss: 0.3321 - val_accuracy: 0.9381\n",
      "Epoch 20/30\n",
      "189/189 - 0s - loss: 0.3116 - accuracy: 0.9270 - val_loss: 0.3230 - val_accuracy: 0.9429\n",
      "Epoch 21/30\n",
      "189/189 - 0s - loss: 0.3032 - accuracy: 0.9275 - val_loss: 0.3148 - val_accuracy: 0.9381\n",
      "Epoch 22/30\n",
      "189/189 - 0s - loss: 0.2961 - accuracy: 0.9312 - val_loss: 0.3077 - val_accuracy: 0.9381\n",
      "Epoch 23/30\n",
      "189/189 - 0s - loss: 0.2901 - accuracy: 0.9238 - val_loss: 0.3027 - val_accuracy: 0.9429\n",
      "Epoch 24/30\n",
      "189/189 - 0s - loss: 0.2850 - accuracy: 0.9270 - val_loss: 0.2981 - val_accuracy: 0.9429\n",
      "Epoch 25/30\n",
      "189/189 - 0s - loss: 0.2809 - accuracy: 0.9370 - val_loss: 0.2933 - val_accuracy: 0.9429\n",
      "Epoch 26/30\n",
      "189/189 - 0s - loss: 0.2770 - accuracy: 0.9317 - val_loss: 0.2900 - val_accuracy: 0.9429\n",
      "Epoch 27/30\n",
      "189/189 - 0s - loss: 0.2739 - accuracy: 0.9344 - val_loss: 0.2860 - val_accuracy: 0.9429\n",
      "Epoch 28/30\n",
      "189/189 - 0s - loss: 0.2708 - accuracy: 0.9360 - val_loss: 0.2832 - val_accuracy: 0.9429\n",
      "Epoch 29/30\n",
      "189/189 - 0s - loss: 0.2685 - accuracy: 0.9333 - val_loss: 0.2807 - val_accuracy: 0.9429\n",
      "Epoch 30/30\n",
      "189/189 - 0s - loss: 0.2662 - accuracy: 0.9365 - val_loss: 0.2782 - val_accuracy: 0.9429\n"
     ]
    },
    {
     "data": {
      "text/plain": [
       "<tensorflow.python.keras.callbacks.History at 0x7ff050354e10>"
      ]
     },
     "execution_count": 27,
     "metadata": {},
     "output_type": "execute_result"
    }
   ],
   "source": [
    "# New model.fit with validation_split attribute\n",
    "model.fit(x=scaled_train_samples, y=train_labels, validation_split=0.1, batch_size=10, epochs=30, shuffle=True, verbose=2)"
   ]
  },
  {
   "cell_type": "markdown",
   "metadata": {},
   "source": [
    "## Preprocess Test Data"
   ]
  },
  {
   "cell_type": "code",
   "execution_count": 28,
   "metadata": {},
   "outputs": [],
   "source": [
    "test_labels = []\n",
    "test_samples = []"
   ]
  },
  {
   "cell_type": "code",
   "execution_count": 30,
   "metadata": {},
   "outputs": [],
   "source": [
    "for i in range(10):\n",
    "    random_younger = randint(13, 64)\n",
    "    test_samples.append(random_younger)\n",
    "    test_labels.append(1)\n",
    "    \n",
    "    random_older = randint(65, 100)\n",
    "    test_samples.append(random_older)\n",
    "    test_labels.append(0)\n",
    "    \n",
    "for i in range(200):\n",
    "    random_younger = randint(13, 64)\n",
    "    test_samples.append(random_younger)\n",
    "    test_labels.append(0)\n",
    "    \n",
    "    random_older = randint(65, 100)\n",
    "    test_samples.append(random_older)\n",
    "    test_labels.append(1)"
   ]
  },
  {
   "cell_type": "code",
   "execution_count": 31,
   "metadata": {},
   "outputs": [],
   "source": [
    "test_labels = np.array(test_labels)\n",
    "test_samples = np.array(test_samples)\n",
    "test_labels, test_samples = shuffle(test_labels, test_samples)"
   ]
  },
  {
   "cell_type": "code",
   "execution_count": 32,
   "metadata": {},
   "outputs": [],
   "source": [
    "# Creates 0-1 scaled data\n",
    "scaler = MinMaxScaler(feature_range=(0,1))\n",
    "scaled_test_samples = scaler.fit_transform(test_samples.reshape(-1,1))"
   ]
  },
  {
   "cell_type": "markdown",
   "metadata": {},
   "source": [
    "## Predict"
   ]
  },
  {
   "cell_type": "code",
   "execution_count": 33,
   "metadata": {},
   "outputs": [],
   "source": [
    "predictions = model.predict(x=scaled_test_samples, batch_size=10, verbose=0)"
   ]
  },
  {
   "cell_type": "code",
   "execution_count": 36,
   "metadata": {},
   "outputs": [],
   "source": [
    "# Turns predictions into the 0's and 1's accordingly\n",
    "rounded_predictions = np.argmax(predictions, axis=-1)"
   ]
  },
  {
   "cell_type": "markdown",
   "metadata": {},
   "source": [
    "## Confusion Matrix"
   ]
  },
  {
   "cell_type": "code",
   "execution_count": 38,
   "metadata": {},
   "outputs": [],
   "source": [
    "%matplotlib inline\n",
    "from sklearn.metrics import confusion_matrix\n",
    "import itertools\n",
    "import matplotlib.pyplot as plt"
   ]
  },
  {
   "cell_type": "code",
   "execution_count": 40,
   "metadata": {},
   "outputs": [],
   "source": [
    "# We filled in the y_true and y_pred sections to compare the predictions with the actual values\n",
    "cm = confusion_matrix(y_true=test_labels, y_pred=rounded_predictions)"
   ]
  },
  {
   "cell_type": "code",
   "execution_count": 54,
   "metadata": {},
   "outputs": [],
   "source": [
    "def plot_confusion_matrix(cm, classes,\n",
    "                          normalize=False,\n",
    "                          title='Confusion Matrix',\n",
    "                          cmap=plt.cm.Blues):\n",
    "    \"\"\"\n",
    "    This function prints and plots the confusion matrix.\n",
    "    Normalization can be applied by setting 'normalize=True'.\n",
    "    \"\"\"\n",
    "    plt.imshow(cm, interpolation=\"nearest\", cmap=cmap)\n",
    "    plt.title(title)\n",
    "    plt.colorbar()\n",
    "    tick_marks = np.arange(len(classes))\n",
    "    plt.xticks(tick_marks, classes, rotation=45)\n",
    "    plt.yticks(tick_marks, classes)\n",
    "    \n",
    "    if normalize:\n",
    "        cm=cm.astype('float') / cm.sum(axis=1)[:, np.newaxis]\n",
    "    else:\n",
    "        print(\"Confusion matrix, without normalization\")\n",
    "        \n",
    "    print(cm)\n",
    "    \n",
    "    thresh = cm.max() / 2.\n",
    "    for i, j in itertools.product(range(cm.shape[0]), range(cm.shape[1])):\n",
    "        plt.text(j, i, cm[i, j],\n",
    "                 horizontalalignment=\"center\",\n",
    "                 color=\"white\" if cm[i, j] > thresh else \"black\")\n",
    "        \n",
    "    plt.tight_layout()\n",
    "    plt.ylabel(\"True label\")\n",
    "    plt.xlabel(\"Predicted label\")        "
   ]
  },
  {
   "cell_type": "code",
   "execution_count": 55,
   "metadata": {},
   "outputs": [
    {
     "name": "stdout",
     "output_type": "stream",
     "text": [
      "Confusion matrix, without normalization\n",
      "[[1154  106]\n",
      " [  56 1204]]\n"
     ]
    },
    {
     "data": {
      "image/png": "[encoded data removed]",
      "text/plain": [
       "<Figure size 432x288 with 2 Axes>"
      ]
     },
     "metadata": {
      "needs_background": "light"
     },
     "output_type": "display_data"
    }
   ],
   "source": [
    "cm_plot_labels=['no_side_effects', 'had_side_effects']\n",
    "plot_confusion_matrix(cm=cm, classes=cm_plot_labels, title='Confusion Matrix')"
   ]
  }
 ],
 "metadata": {
  "kernelspec": {
   "display_name": "Python 3",
   "language": "python",
   "name": "python3"
  },
  "language_info": {
   "codemirror_mode": {
    "name": "ipython",
    "version": 3
   },
   "file_extension": ".py",
   "mimetype": "text/x-python",
   "name": "python",
   "nbconvert_exporter": "python",
   "pygments_lexer": "ipython3",
   "version": "3.7.6"
  }
 },
 "nbformat": 4,
 "nbformat_minor": 4
}
